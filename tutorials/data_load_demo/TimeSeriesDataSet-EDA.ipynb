{
 "cells": [
  {
   "cell_type": "code",
   "execution_count": 1,
   "id": "8ed61902-434c-4066-90c0-71cd41d88af8",
   "metadata": {},
   "outputs": [],
   "source": [
    "import pandas as pd"
   ]
  },
  {
   "cell_type": "markdown",
   "id": "7dc777ee-d8a1-46fa-8e8d-82bc4ec3eab3",
   "metadata": {},
   "source": [
    "# ETTh1/ETTh2 dataset"
   ]
  },
  {
   "cell_type": "code",
   "execution_count": 2,
   "id": "4b8ad72e-1430-41e5-a4e9-41e33fdc8f41",
   "metadata": {},
   "outputs": [
    {
     "name": "stdout",
     "output_type": "stream",
     "text": [
      "(17420, 8)\n",
      "(17420, 8)\n"
     ]
    }
   ],
   "source": [
    "ETTh1 = pd.read_csv(\"/hy-tmp/data/ETT-small/ETTh1.csv\")\n",
    "ETTh2 = pd.read_csv(\"/hy-tmp/data/ETT-small/ETTh2.csv\")\n",
    "print(ETTh1.shape)\n",
    "print(ETTh2.shape)"
   ]
  },
  {
   "cell_type": "code",
   "execution_count": null,
   "id": "7f9a6c96-df18-47c4-b589-04cda92f165e",
   "metadata": {},
   "outputs": [],
   "source": []
  }
 ],
 "metadata": {
  "kernelspec": {
   "display_name": "moment",
   "language": "python",
   "name": "moment"
  },
  "language_info": {
   "codemirror_mode": {
    "name": "ipython",
    "version": 3
   },
   "file_extension": ".py",
   "mimetype": "text/x-python",
   "name": "python",
   "nbconvert_exporter": "python",
   "pygments_lexer": "ipython3",
   "version": "3.11.9"
  }
 },
 "nbformat": 4,
 "nbformat_minor": 5
}
